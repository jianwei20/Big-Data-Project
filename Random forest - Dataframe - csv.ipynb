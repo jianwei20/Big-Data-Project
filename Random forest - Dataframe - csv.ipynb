{
 "cells": [
  {
   "cell_type": "code",
   "execution_count": 38,
   "metadata": {
    "collapsed": false
   },
   "outputs": [],
   "source": [
    "#source ~/.bashrc\n",
    "#http://localhost:4040/executors/   後台\n",
    "#pyspark --master local[*] --executor-memory 4G --driver-memory 2G --packages com.databricks:spark-csv_2.10:1.4.0\n",
    "#(加起來不要超過8  --executor-memory 2g   --driver-memory 2g 處理排程)\n",
    "#啟動pyspark指令：\n",
    "#pyspark --packages com.databricks:spark-csv_2.10:1.4.0\n",
    "#pyspark --packages com.databricks:spark-csv_2.10:1.4.0 --master local[*] --executor-memory 4G\n",
    "from pyspark.sql import SQLContext\n",
    "from pyspark.ml import Pipeline\n",
    "from pyspark.ml.classification import RandomForestClassifier\n",
    "from pyspark.ml.feature import StringIndexer, VectorIndexer\n",
    "from pyspark.ml.evaluation import MulticlassClassificationEvaluator\n",
    "from pyspark.sql.types import *\n",
    "from pyspark.ml.feature import RFormula\n",
    "\n",
    "from pyspark.ml.classification import LogisticRegression\n",
    "from pyspark.ml.param import Param, Params\n",
    "from pyspark.ml.feature import HashingTF, Tokenizer\n",
    "from pyspark.sql import Row\n",
    "from pyspark.mllib.classification import LogisticRegressionWithLBFGS\n",
    "from pyspark.ml.evaluation import BinaryClassificationEvaluator\n",
    "from pyspark.mllib.util import MLUtils\n",
    "\n",
    "from pyspark.mllib.linalg import Vectors\n",
    "from pyspark.ml.classification import LogisticRegression\n",
    "\n",
    "from pyspark.ml.tuning import *"
   ]
  },
  {
   "cell_type": "code",
   "execution_count": 39,
   "metadata": {
    "collapsed": false
   },
   "outputs": [],
   "source": [
    "from pyspark.sql import SQLContext\n",
    "from pyspark.sql.types import *\n",
    "\n",
    "# Load and parse the data file, converting it to a DataFrame.\n",
    "#data = sqlContext.read.format(\"com.databricks.spark.csv\").options(header='true', inferschema='true').load(\"/Users/sheng/Downloads/Click_Through_Rate_Prediction/train100000.csv\")\n",
    "data = sqlContext.read.format(\"com.databricks.spark.csv\").options(header='true', inferschema='true').load(\"/Users/sheng/Downloads/Click_Through_Rate_Prediction/train10000000.csv\")\n",
    "#data = sqlContext.read.format(\"com.databricks.spark.csv\").options(header='true', inferschema='true').load(\"/Users/sheng/Downloads/Click_Through_Rate_Prediction/train.csv\")\n",
    "# Displays the content of the DataFrame to stdout\n",
    "#df.show()\n",
    "#data.show()"
   ]
  },
  {
   "cell_type": "code",
   "execution_count": 40,
   "metadata": {
    "collapsed": false
   },
   "outputs": [
    {
     "name": "stdout",
     "output_type": "stream",
     "text": [
      "root\n",
      " |-- id: double (nullable = true)\n",
      " |-- click: integer (nullable = true)\n",
      " |-- hour: integer (nullable = true)\n",
      " |-- C1: integer (nullable = true)\n",
      " |-- banner_pos: integer (nullable = true)\n",
      " |-- site_id: string (nullable = true)\n",
      " |-- site_domain: string (nullable = true)\n",
      " |-- site_category: string (nullable = true)\n",
      " |-- app_id: string (nullable = true)\n",
      " |-- app_domain: string (nullable = true)\n",
      " |-- app_category: string (nullable = true)\n",
      " |-- device_id: string (nullable = true)\n",
      " |-- device_ip: string (nullable = true)\n",
      " |-- device_model: string (nullable = true)\n",
      " |-- device_type: integer (nullable = true)\n",
      " |-- device_conn_type: integer (nullable = true)\n",
      " |-- C14: integer (nullable = true)\n",
      " |-- C15: integer (nullable = true)\n",
      " |-- C16: integer (nullable = true)\n",
      " |-- C17: integer (nullable = true)\n",
      " |-- C18: integer (nullable = true)\n",
      " |-- C19: integer (nullable = true)\n",
      " |-- C20: integer (nullable = true)\n",
      " |-- C21: integer (nullable = true)\n",
      "\n"
     ]
    }
   ],
   "source": [
    "# Print the schema in a tree format\n",
    "data.printSchema()"
   ]
  },
  {
   "cell_type": "code",
   "execution_count": 41,
   "metadata": {
    "collapsed": false
   },
   "outputs": [
    {
     "name": "stdout",
     "output_type": "stream",
     "text": [
      "+--------------------+-----+--------+----+----------+--------+-------------+\n",
      "|                  id|click|    hour|  C1|banner_pos| site_id|site_category|\n",
      "+--------------------+-----+--------+----+----------+--------+-------------+\n",
      "|1.000009418151094...|    0|14102100|1005|         0|1fbe01fe|     28905ebd|\n",
      "|1.000016934911786...|    0|14102100|1005|         0|1fbe01fe|     28905ebd|\n",
      "|1.000037190421512E19|    0|14102100|1005|         0|1fbe01fe|     28905ebd|\n",
      "|1.000064072448083...|    0|14102100|1005|         0|1fbe01fe|     28905ebd|\n",
      "|1.000067905641704...|    0|14102100|1005|         1|fe8cc448|     0569f928|\n",
      "|1.000072075780110...|    0|14102100|1005|         0|d6137915|     f028772b|\n",
      "|1.000072472998854...|    0|14102100|1005|         0|8fda644b|     f028772b|\n",
      "|1.000091875574232...|    0|14102100|1005|         1|e151e245|     f028772b|\n",
      "|1.000094927118603E19|    1|14102100|1005|         0|1fbe01fe|     28905ebd|\n",
      "|1.000126448061946...|    0|14102100|1002|         0|84c7ba46|     50e219e0|\n",
      "|1.000186833961659...|    0|14102100|1005|         1|e151e245|     f028772b|\n",
      "|1.000196679179352...|    0|14102100|1005|         0|1fbe01fe|     28905ebd|\n",
      "|1.000202856816734E19|    0|14102100|1005|         0|9e8cf15d|     f028772b|\n",
      "|1.000204488312087E19|    0|14102100|1005|         0|d6137915|     f028772b|\n",
      "|1.000251864903143...|    0|14102100|1005|         0|85f751fd|     50e219e0|\n",
      "|1.000353903923533...|    0|14102100|1005|         0|1fbe01fe|     28905ebd|\n",
      "|1.000358566947023...|    0|14102100|1005|         0|d9750ee7|     f028772b|\n",
      "|1.000410557508123E19|    0|14102100|1005|         0|1fbe01fe|     28905ebd|\n",
      "|1.000418142876772...|    0|14102100|1005|         1|0c2fe9d6|     28905ebd|\n",
      "|1.000448264331608...|    0|14102100|1005|         0|85f751fd|     50e219e0|\n",
      "+--------------------+-----+--------+----+----------+--------+-------------+\n",
      "only showing top 20 rows\n",
      "\n"
     ]
    }
   ],
   "source": [
    "# Select only the \"name\" column\n",
    "Schema = data.select(\"id\",\"click\",\"hour\",\"C1\",\"banner_pos\",\"site_id\",\"site_category\").show()"
   ]
  },
  {
   "cell_type": "code",
   "execution_count": 42,
   "metadata": {
    "collapsed": false
   },
   "outputs": [],
   "source": [
    "Schema = StructType([\n",
    "      StructField(\"id\", DoubleType(), True),\n",
    "      StructField(\"click\", DoubleType(), True),\n",
    "      StructField(\"hour\", StringType(), True),\n",
    "      StructField(\"C1\", DoubleType(), True),\n",
    "      StructField(\"banner_pos\", DoubleType(), True),\n",
    "      StructField(\"site_id\", StringType(), True),\n",
    "      StructField(\"site_domain\", StringType(), True),\n",
    "      StructField(\"site_category\", StringType(), True),\n",
    "      StructField(\"app_id\", StringType(), True),\n",
    "      StructField(\"app_domain\", StringType(), True),\n",
    "      StructField(\"app_category\", StringType(), True),\n",
    "      StructField(\"device_id\", StringType(), True),\n",
    "      StructField(\"device_ip\", StringType(), True),\n",
    "      StructField(\"device_model\", StringType(), True),\n",
    "      StructField(\"device_type\", DoubleType(), True),\n",
    "      StructField(\"device_conn_type\", DoubleType(), True),\n",
    "      StructField(\"C14\", DoubleType(), True),\n",
    "      StructField(\"C15\", DoubleType(), True),\n",
    "      StructField(\"C16\", DoubleType(), True),\n",
    "      StructField(\"C17\", DoubleType(), True),\n",
    "      StructField(\"C18\", DoubleType(), True),\n",
    "      StructField(\"C19\", DoubleType(), True),\n",
    "      StructField(\"C20\", DoubleType(), True),\n",
    "      StructField(\"C21\", DoubleType(), True)\n",
    "    ])"
   ]
  },
  {
   "cell_type": "code",
   "execution_count": 43,
   "metadata": {
    "collapsed": false
   },
   "outputs": [
    {
     "name": "stdout",
     "output_type": "stream",
     "text": [
      "StructType(List(StructField(id,DoubleType,true),StructField(click,DoubleType,true),StructField(hour,StringType,true),StructField(C1,DoubleType,true),StructField(banner_pos,DoubleType,true),StructField(site_id,StringType,true),StructField(site_domain,StringType,true),StructField(site_category,StringType,true),StructField(app_id,StringType,true),StructField(app_domain,StringType,true),StructField(app_category,StringType,true),StructField(device_id,StringType,true),StructField(device_ip,StringType,true),StructField(device_model,StringType,true),StructField(device_type,DoubleType,true),StructField(device_conn_type,DoubleType,true),StructField(C14,DoubleType,true),StructField(C15,DoubleType,true),StructField(C16,DoubleType,true),StructField(C17,DoubleType,true),StructField(C18,DoubleType,true),StructField(C19,DoubleType,true),StructField(C20,DoubleType,true),StructField(C21,DoubleType,true)))\n"
     ]
    }
   ],
   "source": [
    "#data.printSchema() #Data type doesn't change???? \n",
    "print Schema"
   ]
  },
  {
   "cell_type": "code",
   "execution_count": 44,
   "metadata": {
    "collapsed": false,
    "scrolled": true
   },
   "outputs": [
    {
     "name": "stdout",
     "output_type": "stream",
     "text": [
      "+--------------------+-----+--------+----+----------+--------+-----------+-------------+--------+----------+------------+---------+---------+------------+-----------+----------------+-----+---+---+----+---+---+------+---+-----+\n",
      "|                  id|click|    hour|  C1|banner_pos| site_id|site_domain|site_category|  app_id|app_domain|app_category|device_id|device_ip|device_model|device_type|device_conn_type|  C14|C15|C16| C17|C18|C19|   C20|C21|label|\n",
      "+--------------------+-----+--------+----+----------+--------+-----------+-------------+--------+----------+------------+---------+---------+------------+-----------+----------------+-----+---+---+----+---+---+------+---+-----+\n",
      "|1.000009418151094...|    0|14102100|1005|         0|1fbe01fe|   f3845767|     28905ebd|ecad2386|  7801e8d9|    07d7df22| a99f214a| ddd2926e|    44956a24|          1|               2|15706|320| 50|1722|  0| 35|    -1| 79|  0.0|\n",
      "|1.000016934911786...|    0|14102100|1005|         0|1fbe01fe|   f3845767|     28905ebd|ecad2386|  7801e8d9|    07d7df22| a99f214a| 96809ac8|    711ee120|          1|               0|15704|320| 50|1722|  0| 35|100084| 79|  0.0|\n",
      "|1.000037190421512E19|    0|14102100|1005|         0|1fbe01fe|   f3845767|     28905ebd|ecad2386|  7801e8d9|    07d7df22| a99f214a| b3cf8def|    8a4875bd|          1|               0|15704|320| 50|1722|  0| 35|100084| 79|  0.0|\n",
      "|1.000064072448083...|    0|14102100|1005|         0|1fbe01fe|   f3845767|     28905ebd|ecad2386|  7801e8d9|    07d7df22| a99f214a| e8275b8f|    6332421a|          1|               0|15706|320| 50|1722|  0| 35|100084| 79|  0.0|\n",
      "|1.000067905641704...|    0|14102100|1005|         1|fe8cc448|   9166c161|     0569f928|ecad2386|  7801e8d9|    07d7df22| a99f214a| 9644d0bf|    779d90c2|          1|               0|18993|320| 50|2161|  0| 35|    -1|157|  0.0|\n",
      "|1.000072075780110...|    0|14102100|1005|         0|d6137915|   bb1ef334|     f028772b|ecad2386|  7801e8d9|    07d7df22| a99f214a| 05241af0|    8a4875bd|          1|               0|16920|320| 50|1899|  0|431|100077|117|  0.0|\n",
      "|1.000072472998854...|    0|14102100|1005|         0|8fda644b|   25d4cfcd|     f028772b|ecad2386|  7801e8d9|    07d7df22| a99f214a| b264c159|    be6db1d7|          1|               0|20362|320| 50|2333|  0| 39|    -1|157|  0.0|\n",
      "|1.000091875574232...|    0|14102100|1005|         1|e151e245|   7e091613|     f028772b|ecad2386|  7801e8d9|    07d7df22| a99f214a| e6f67278|    be74e6fe|          1|               0|20632|320| 50|2374|  3| 39|    -1| 23|  0.0|\n",
      "|1.000094927118603E19|    1|14102100|1005|         0|1fbe01fe|   f3845767|     28905ebd|ecad2386|  7801e8d9|    07d7df22| a99f214a| 37e8da74|    5db079b5|          1|               2|15707|320| 50|1722|  0| 35|    -1| 79|  1.0|\n",
      "|1.000126448061946...|    0|14102100|1002|         0|84c7ba46|   c4e18dd6|     50e219e0|ecad2386|  7801e8d9|    07d7df22| c357dbff| f1ac7184|    373ecbe6|          0|               0|21689|320| 50|2496|  3|167|100191| 23|  0.0|\n",
      "|1.000186833961659...|    0|14102100|1005|         1|e151e245|   7e091613|     f028772b|ecad2386|  7801e8d9|    07d7df22| a99f214a| 5d877109|    8f5c9827|          1|               0|17747|320| 50|1974|  2| 39|100019| 33|  0.0|\n",
      "|1.000196679179352...|    0|14102100|1005|         0|1fbe01fe|   f3845767|     28905ebd|ecad2386|  7801e8d9|    07d7df22| a99f214a| 6f407810|    1f0bc64f|          1|               0|15701|320| 50|1722|  0| 35|    -1| 79|  0.0|\n",
      "|1.000202856816734E19|    0|14102100|1005|         0|9e8cf15d|   0d3cb7be|     f028772b|ecad2386|  7801e8d9|    07d7df22| a99f214a| 58811cdf|    8326c04b|          1|               2|20596|320| 50|2161|  0| 35|100148|157|  0.0|\n",
      "|1.000204488312087E19|    0|14102100|1005|         0|d6137915|   bb1ef334|     f028772b|ecad2386|  7801e8d9|    07d7df22| a99f214a| 72aab6df|    04258293|          1|               0|19771|320| 50|2227|  0|687|100077| 48|  0.0|\n",
      "|1.000251864903143...|    0|14102100|1005|         0|85f751fd|   c4e18dd6|     50e219e0|98fed791|  d9b5648e|    0f2161f8| a99f214a| 6dec2796|    aad45b01|          1|               0|20984|320| 50|2371|  0|551|    -1| 46|  0.0|\n",
      "|1.000353903923533...|    0|14102100|1005|         0|1fbe01fe|   f3845767|     28905ebd|ecad2386|  7801e8d9|    07d7df22| a99f214a| a4f47b2e|    8a4875bd|          1|               0|15699|320| 50|1722|  0| 35|100084| 79|  0.0|\n",
      "|1.000358566947023...|    0|14102100|1005|         0|d9750ee7|   98572c79|     f028772b|ecad2386|  7801e8d9|    07d7df22| a99f214a| 9b1fe278|    128f4ba1|          1|               0|17914|320| 50|2043|  2| 39|    -1| 32|  0.0|\n",
      "|1.000410557508123E19|    0|14102100|1005|         0|1fbe01fe|   f3845767|     28905ebd|ecad2386|  7801e8d9|    07d7df22| a99f214a| c26c53cf|    be87996b|          1|               2|15708|320| 50|1722|  0| 35|100084| 79|  0.0|\n",
      "|1.000418142876772...|    0|14102100|1005|         1|0c2fe9d6|   27e3c518|     28905ebd|ecad2386|  7801e8d9|    07d7df22| a99f214a| b7a69808|    158e4944|          1|               0| 6558|320| 50| 571|  2| 39|    -1| 32|  0.0|\n",
      "|1.000448264331608...|    0|14102100|1005|         0|85f751fd|   c4e18dd6|     50e219e0|66a5f0f3|  d9b5648e|    cef3e649| a99f214a| fa60af6b|    b4b19c97|          1|               0|21234|320| 50|2434|  3|163|100088| 61|  0.0|\n",
      "+--------------------+-----+--------+----+----------+--------+-----------+-------------+--------+----------+------------+---------+---------+------------+-----------+----------------+-----+---+---+----+---+---+------+---+-----+\n",
      "only showing top 20 rows\n",
      "\n"
     ]
    }
   ],
   "source": [
    "from pyspark.ml.feature import StringIndexer\n",
    "## Index labels, adding metadata to the label column.\n",
    "## Fit on whole dataset to include all labels in index.\n",
    "data = StringIndexer(inputCol=\"click\", outputCol=\"label\").fit(data).transform(data)\n",
    "data.show()\n",
    "## 可產生另一個檔案.transform(data)不一定要在（data）檔案裡\n",
    "#labelIndexer  ===> data"
   ]
  },
  {
   "cell_type": "code",
   "execution_count": 45,
   "metadata": {
    "collapsed": false
   },
   "outputs": [
    {
     "name": "stdout",
     "output_type": "stream",
     "text": [
      "+--------------------+-----+\n",
      "|            features|label|\n",
      "+--------------------+-----+\n",
      "|(13575,[1,5471,54...|  0.0|\n",
      "|(13575,[1,5471,54...|  0.0|\n",
      "|(13575,[1,5471,54...|  0.0|\n",
      "|(13575,[1,5471,54...|  0.0|\n",
      "|(13575,[0,1,5478,...|  0.0|\n",
      "|(13575,[1,5470,55...|  0.0|\n",
      "|(13575,[1,5470,57...|  0.0|\n",
      "|(13575,[0,1,5470,...|  0.0|\n",
      "|(13575,[1,5471,54...|  1.0|\n",
      "|(13575,[1,5469,55...|  0.0|\n",
      "|(13575,[0,1,5470,...|  0.0|\n",
      "|(13575,[1,5471,54...|  0.0|\n",
      "|(13575,[1,5470,55...|  0.0|\n",
      "|(13575,[1,5470,55...|  0.0|\n",
      "|(13575,[19,5469,5...|  0.0|\n",
      "|(13575,[1,5471,54...|  0.0|\n",
      "|(13575,[1,5470,54...|  0.0|\n",
      "|(13575,[1,5471,54...|  0.0|\n",
      "|(13575,[0,1,5471,...|  0.0|\n",
      "|(13575,[429,5469,...|  0.0|\n",
      "+--------------------+-----+\n",
      "only showing top 20 rows\n",
      "\n"
     ]
    }
   ],
   "source": [
    "# RFormula\n",
    "from pyspark.ml.feature import RFormula\n",
    "## RFormula: string input colums will be one-hot encoded, and numeric columns will be cast to doubles.\n",
    "##特徵值要被修正formula\" \"\n",
    "formula = RFormula(\n",
    "    #formula=\"label ~ C1 + banner_pos + site_category + app_category + device_type + device_conn_type + C15 + C16 + C18 + C19\",\n",
    "    formula=\"label ~ banner_pos + app_id + site_category + site_id + site_domain + C14 + C17 + C18 + C19 + C21\",\n",
    "    #\"label ~ banner_pos + site_id + site_domain + C14 + C17 + C21\" #0.7\n",
    "    featuresCol=\"features\",\n",
    "    labelCol=\"label\")\n",
    "formula_data = formula.fit(data).transform(data)\n",
    "formula_data.select(\"features\",\"label\").show()"
   ]
  },
  {
   "cell_type": "code",
   "execution_count": 46,
   "metadata": {
    "collapsed": false,
    "scrolled": true
   },
   "outputs": [
    {
     "name": "stdout",
     "output_type": "stream",
     "text": [
      "+--------------------+-----+--------+----+----------+--------+-----------+-------------+--------+----------+------------+---------+---------+------------+-----------+----------------+-----+---+---+----+---+----+------+---+-----+--------------------+\n",
      "|                  id|click|    hour|  C1|banner_pos| site_id|site_domain|site_category|  app_id|app_domain|app_category|device_id|device_ip|device_model|device_type|device_conn_type|  C14|C15|C16| C17|C18| C19|   C20|C21|label|            features|\n",
      "+--------------------+-----+--------+----+----------+--------+-----------+-------------+--------+----------+------------+---------+---------+------------+-----------+----------------+-----+---+---+----+---+----+------+---+-----+--------------------+\n",
      "|   9.984920344968E12|    0|14102100|1005|         0|1fbe01fe|   f3845767|     28905ebd|ecad2386|  7801e8d9|    07d7df22| a99f214a| 431b3174|    6332421a|          1|               0|15706|320| 50|1722|  0|  35|    -1| 79|  0.0|(13575,[1,5471,54...|\n",
      "|  3.2375628240231E13|    0|14102100|1005|         0|518d6168|   92c9e92d|     f028772b|ecad2386|  7801e8d9|    07d7df22| a99f214a| d6d3424d|    44801bc1|          1|               0|18993|320| 50|2161|  0|  35|    -1|157|  0.0|(13575,[1,5470,57...|\n",
      "|  3.7776862844874E13|    0|14102100|1005|         0|1fbe01fe|   f3845767|     28905ebd|ecad2386|  7801e8d9|    07d7df22| a99f214a| ca91ff47|    5dee1d65|          1|               0|15701|320| 50|1722|  0|  35|100083| 79|  0.0|(13575,[1,5471,54...|\n",
      "| 1.68962721406625E14|    0|14102100|1005|         1|856e6d3f|   58a89a43|     f028772b|ecad2386|  7801e8d9|    07d7df22| a99f214a| c654b5ac|    f39b265e|          1|               0|19772|320| 50|2227|  0| 687|100081| 48|  0.0|(13575,[0,1,5470,...|\n",
      "| 4.41039161952503E14|    0|14102101|1005|         0|1fbe01fe|   f3845767|     28905ebd|ecad2386|  7801e8d9|    07d7df22| a99f214a| ceffea69|    3bd9e8e7|          1|               0|15705|320| 50|1722|  0|  35|    -1| 79|  0.0|(13575,[1,5471,54...|\n",
      "| 7.02473350686023E14|    0|14102100|1005|         0|85f751fd|   c4e18dd6|     50e219e0|e2fcccd2|  5c5a694b|    0f2161f8| a99f214a| 681428aa|    2c948de5|          1|               0|20634|320| 50|2374|  3|  39|    -1| 23|  0.0|(13575,[2,5469,54...|\n",
      "| 8.75261502993125E14|    0|14102100|1005|         0|1fbe01fe|   f3845767|     28905ebd|ecad2386|  7801e8d9|    07d7df22| a99f214a| 74c7dc5f|    76dc4769|          1|               0|15702|320| 50|1722|  0|  35|100083| 79|  0.0|(13575,[1,5471,54...|\n",
      "|1.040997402777728E15|    0|14102101|1005|         1|856e6d3f|   58a89a43|     f028772b|ecad2386|  7801e8d9|    07d7df22| a99f214a| 4c5bcfdb|    17a8848a|          1|               0|19771|320| 50|2227|  0| 687|100077| 48|  0.0|(13575,[0,1,5470,...|\n",
      "|1.175770906635967E15|    0|14102100|1005|         0|1fbe01fe|   f3845767|     28905ebd|ecad2386|  7801e8d9|    07d7df22| a99f214a| c6563308|    8a4875bd|          1|               0|15706|320| 50|1722|  0|  35|    -1| 79|  0.0|(13575,[1,5471,54...|\n",
      "|1.214977159543182E15|    0|14102101|1005|         0|85f751fd|   c4e18dd6|     50e219e0|39947756|  2347f47a|    cef3e649| 03061a1c| 639190dd|    0b0e5bc5|          1|               2|21647|320| 50|2487|  1| 547|100019| 51|  0.0|(13575,[18,5469,5...|\n",
      "|1.252004556985804E15|    0|14102100|1005|         1|d9750ee7|   98572c79|     f028772b|ecad2386|  7801e8d9|    07d7df22| a99f214a| cc0f7ebe|    0fadd2fe|          1|               0|17753|320| 50|1993|  2|1063|100084| 33|  0.0|(13575,[0,1,5470,...|\n",
      "|1.634362683925498E15|    0|14102100|1005|         0|1fbe01fe|   f3845767|     28905ebd|ecad2386|  7801e8d9|    07d7df22| a99f214a| 0ffd9780|    9dcb1cd1|          1|               0|15706|320| 50|1722|  0|  35|100084| 79|  0.0|(13575,[1,5471,54...|\n",
      "|1.829914732765585E15|    0|14102101|1005|         0|1fbe01fe|   f3845767|     28905ebd|ecad2386|  7801e8d9|    07d7df22| a99f214a| 4a5779aa|    b50d2bf4|          1|               0|15708|320| 50|1722|  0|  35|100084| 79|  0.0|(13575,[1,5471,54...|\n",
      "|2.233605658944249E15|    0|14102100|1005|         0|1fbe01fe|   f3845767|     28905ebd|ecad2386|  7801e8d9|    07d7df22| a99f214a| 059efccc|    36d749e5|          1|               0|15703|320| 50|1722|  0|  35|    -1| 79|  0.0|(13575,[1,5471,54...|\n",
      "|2.277801767766099E15|    0|14102101|1005|         0|cd58172f|   b9c4ab81|     f028772b|ecad2386|  7801e8d9|    07d7df22| a99f214a| 794f202c|    d8c5833a|          1|               0|20596|320| 50|2161|  0|  35|    -1|157|  0.0|(13575,[1,5470,55...|\n",
      "|2.496178256548695E15|    0|14102100|1002|         0|8907c166|   38b1b595|     50e219e0|ecad2386|  7801e8d9|    07d7df22| df1922f8| a9f179c7|    8e0333c2|          0|               0|21640|320| 50|2485|  3| 163|100000| 93|  0.0|(13575,[1,5469,56...|\n",
      "|2.528249908811614E15|    0|14102101|1005|         0|1fbe01fe|   f3845767|     28905ebd|ecad2386|  7801e8d9|    07d7df22| a99f214a| a9ea75c0|    c6263d8a|          1|               0|15704|320| 50|1722|  0|  35|    -1| 79|  0.0|(13575,[1,5471,54...|\n",
      "|2.547816062013467E15|    0|14102100|1005|         0|543a539e|   c7ca3108|     3e814130|ecad2386|  7801e8d9|    07d7df22| a99f214a| 938386be|    02edaeaa|          1|               0|20366|320| 50|2333|  0|  39|    -1|157|  0.0|(13575,[1,5472,55...|\n",
      "|2.621703735693469E15|    0|14102100|1005|         0|85f751fd|   c4e18dd6|     50e219e0|e2fcccd2|  5c5a694b|    0f2161f8| cd6f14c9| 7a50bc97|    d42e625d|          1|               0|20633|320| 50|2374|  3|  39|    -1| 23|  0.0|(13575,[2,5469,54...|\n",
      "|2.729344775097347E15|    0|14102101|1005|         1|e4d8dd7b|   a17bde68|     3e814130|ecad2386|  7801e8d9|    07d7df22| a99f214a| 09f6f3b3|    95a0fb49|          1|               0|16208|320| 50|1800|  3| 167|100074| 23|  0.0|(13575,[0,1,5472,...|\n",
      "+--------------------+-----+--------+----+----------+--------+-----------+-------------+--------+----------+------------+---------+---------+------------+-----------+----------------+-----+---+---+----+---+----+------+---+-----+--------------------+\n",
      "only showing top 20 rows\n",
      "\n"
     ]
    }
   ],
   "source": [
    "# Split the data into training and test sets (30% held out for testing)\n",
    "#已經有了！\n",
    "# Split training and test data.\n",
    "(training, test) = formula_data.randomSplit([0.7, 0.3], seed = 12345) #what's seed\n",
    "training.show()\n"
   ]
  },
  {
   "cell_type": "code",
   "execution_count": 47,
   "metadata": {
    "collapsed": false
   },
   "outputs": [],
   "source": [
    "# Configure an ML pipeline, which consists of three stages: tokenizer, hashingTF, and rf (random forest).\n",
    "# Train a RandomForest model.\n",
    "#rf = RandomForestClassifier(labelCol=\"label\", featuresCol=\"features\")\n",
    "\n",
    "# Chain indexers and forest in a Pipeline\n",
    "# stages=[labelIndexer, featureIndexer, rf]這部分在In[14]做完了所以只要處理rf\n",
    "#pipeline = Pipeline(stages=[rf])"
   ]
  },
  {
   "cell_type": "code",
   "execution_count": 48,
   "metadata": {
    "collapsed": false,
    "scrolled": false
   },
   "outputs": [
    {
     "name": "stdout",
     "output_type": "stream",
     "text": [
      "+----------+-----+--------------------+\n",
      "|prediction|label|            features|\n",
      "+----------+-----+--------------------+\n",
      "|       0.0|  0.0|(13575,[1,5471,54...|\n",
      "|       0.0|  0.0|(13575,[1,5470,57...|\n",
      "|       0.0|  0.0|(13575,[1,5471,54...|\n",
      "|       0.0|  0.0|(13575,[0,1,5470,...|\n",
      "|       0.0|  0.0|(13575,[1,5471,54...|\n",
      "|       0.0|  0.0|(13575,[2,5469,54...|\n",
      "|       0.0|  0.0|(13575,[1,5471,54...|\n",
      "|       0.0|  0.0|(13575,[0,1,5470,...|\n",
      "|       0.0|  0.0|(13575,[1,5471,54...|\n",
      "|       0.0|  0.0|(13575,[18,5469,5...|\n",
      "|       0.0|  0.0|(13575,[0,1,5470,...|\n",
      "|       0.0|  0.0|(13575,[1,5471,54...|\n",
      "|       0.0|  0.0|(13575,[1,5471,54...|\n",
      "|       0.0|  0.0|(13575,[1,5471,54...|\n",
      "|       0.0|  0.0|(13575,[1,5470,55...|\n",
      "|       0.0|  0.0|(13575,[1,5469,56...|\n",
      "|       0.0|  0.0|(13575,[1,5471,54...|\n",
      "|       0.0|  0.0|(13575,[1,5472,55...|\n",
      "|       0.0|  0.0|(13575,[2,5469,54...|\n",
      "|       0.0|  0.0|(13575,[0,1,5472,...|\n",
      "+----------+-----+--------------------+\n",
      "only showing top 20 rows\n",
      "\n"
     ]
    }
   ],
   "source": [
    "from pyspark.ml.classification import LogisticRegression\n",
    "from pyspark.ml.param import Param, Params\n",
    "from pyspark.ml.feature import HashingTF, Tokenizer\n",
    "from pyspark.sql import Row\n",
    "from pyspark.ml import Pipeline\n",
    "from pyspark.ml.classification import RandomForestClassifier\n",
    "from pyspark.ml.feature import StringIndexer, VectorIndexer\n",
    "from pyspark.mllib.classification import LogisticRegressionWithLBFGS\n",
    "from pyspark.ml.evaluation import BinaryClassificationEvaluator\n",
    "from pyspark.mllib.util import MLUtils\n",
    "#===========#what does it mean from here\n",
    "# Configure an ML pipeline, which consists of three stages: tokenizer, hashingTF, and rf (random forest).\n",
    "#rf = RandomForestClassifier().setMaxBins(70)\n",
    "rf = RandomForestClassifier(numTrees=100, maxDepth=20, labelCol=\"label\") #maxDepth=20, maxBins=64, \n",
    "\n",
    "pipeline = Pipeline(stages=[rf])\n",
    "pipelineModel = pipeline.fit(training)\n",
    "trainingPredictions = pipelineModel.transform(training)\n",
    "#trainingPredictions.show()\n",
    "trainingPredictions.select(\"prediction\", \"label\", \"features\").show()\n",
    "testPredictions = pipelineModel.transform(test)"
   ]
  },
  {
   "cell_type": "code",
   "execution_count": 49,
   "metadata": {
    "collapsed": false
   },
   "outputs": [],
   "source": [
    "#evaluator = MulticlassClassificationEvaluator(\n",
    "#labelCol=\"label\", predictionCol=\"prediction\", metricName=\"precision\")\n",
    "evaluator = BinaryClassificationEvaluator()"
   ]
  },
  {
   "cell_type": "code",
   "execution_count": 50,
   "metadata": {
    "collapsed": false
   },
   "outputs": [
    {
     "name": "stdout",
     "output_type": "stream",
     "text": [
      "pipeline Test AUC: 0.701151\n"
     ]
    }
   ],
   "source": [
    "from pyspark.mllib.linalg import Vectors\n",
    "from pyspark.ml.classification import LogisticRegression\n",
    "from pyspark.ml.param import Param, Params\n",
    "\n",
    "evaluatorParaMap = {evaluator.metricName: \"areaUnderROC\"}\n",
    "aucTraining = evaluator.evaluate(trainingPredictions, evaluatorParaMap)\n",
    "aucTest = evaluator.evaluate(testPredictions, evaluatorParaMap)\n",
    "\n",
    "print(\"pipeline Test AUC: %g\" % aucTest)"
   ]
  },
  {
   "cell_type": "code",
   "execution_count": 117,
   "metadata": {
    "collapsed": false
   },
   "outputs": [
    {
     "name": "stdout",
     "output_type": "stream",
     "text": [
      "+--------------------+-----+--------+----+----------+--------+-----------+-------------+--------+----------+------------+---------+---------+------------+-----------+----------------+-----+---+---+----+---+---+------+---+-----+--------------------+--------------------+--------------------+----------+\n",
      "|                  id|click|    hour|  C1|banner_pos| site_id|site_domain|site_category|  app_id|app_domain|app_category|device_id|device_ip|device_model|device_type|device_conn_type|  C14|C15|C16| C17|C18|C19|   C20|C21|label|            features|       rawPrediction|         probability|prediction|\n",
      "+--------------------+-----+--------+----+----------+--------+-----------+-------------+--------+----------+------------+---------+---------+------------+-----------+----------------+-----+---+---+----+---+---+------+---+-----+--------------------+--------------------+--------------------+----------+\n",
      "|1.397765130287882E15|    0|14102100|1005|         0|1fbe01fe|   f3845767|     28905ebd|ecad2386|  7801e8d9|    07d7df22| a99f214a| 1ac9f16c|    24f6b932|          1|               0|15699|320| 50|1722|  0| 35|100084| 79|  0.0|(1675,[1,893,1672...|[120.229631038528...|[0.80153087359018...|       0.0|\n",
      "|1.634362683925498E15|    0|14102100|1005|         0|1fbe01fe|   f3845767|     28905ebd|ecad2386|  7801e8d9|    07d7df22| a99f214a| 0ffd9780|    9dcb1cd1|          1|               0|15706|320| 50|1722|  0| 35|100084| 79|  0.0|(1675,[1,893,1672...|[120.259662954074...|[0.80173108636049...|       0.0|\n",
      "|1.018523098462215...|    0|14102100|1005|         0|1fbe01fe|   f3845767|     28905ebd|ecad2386|  7801e8d9|    07d7df22| a99f214a| 484deefa|    375c3d47|          1|               0|15705|320| 50|1722|  0| 35|100084| 79|  0.0|(1675,[1,893,1672...|[120.188980023042...|[0.80125986682028...|       0.0|\n",
      "|1.039452588906425...|    0|14102100|1005|         0|1fbe01fe|   f3845767|     28905ebd|ecad2386|  7801e8d9|    07d7df22| a99f214a| 884297d2|    0eb711ec|          1|               0|15704|320| 50|1722|  0| 35|    -1| 79|  0.0|(1675,[1,893,1672...|[120.188980023042...|[0.80125986682028...|       0.0|\n",
      "|1.255386939743697...|    0|14102100|1010|         1|85f751fd|   c4e18dd6|     50e219e0|c7f29df3|  7801e8d9|    0f2161f8| 24f71b35| c0c0fa94|    f07e20f8|          4|               0|21665|320| 50|2493|  3| 35|    -1|117|  0.0|(1675,[0,2,894,16...|[136.374134400563...|[0.90916089600375...|       0.0|\n",
      "|1.265105042024532...|    0|14102100|1005|         0|543a539e|   c7ca3108|     3e814130|ecad2386|  7801e8d9|    07d7df22| a99f214a| 5f622168|    cdfde03b|          1|               0|20366|320| 50|2333|  0| 39|    -1|157|  0.0|(1675,[3,895,1672...|[140.724147019918...|[0.93816098013279...|       0.0|\n",
      "|1.270642347104247...|    0|14102100|1005|         0|85f751fd|   c4e18dd6|     50e219e0|3c4b944d|  2347f47a|    0f2161f8| 9000f98c| 1d7bcb0a|    84eb6b0e|          1|               0|20751|320| 50|1895|  0|681|100028|101|  0.0|(1675,[2,894,1672...|[133.266094506738...|[0.88844063004492...|       0.0|\n",
      "|1.280174890695808...|    0|14102100|1005|         0|85f751fd|   c4e18dd6|     50e219e0|febd1138|  82e27996|    0f2161f8| a99f214a| 9cb84b99|    3eb8d368|          1|               0|20508|320| 50|2351|  3|163|100020| 61|  0.0|(1675,[2,894,1672...|[133.865877671732...|[0.89243918447821...|       0.0|\n",
      "|1.343579789644448...|    1|14102100|1005|         0|1fbe01fe|   f3845767|     28905ebd|ecad2386|  7801e8d9|    07d7df22| a99f214a| 0fb242f2|    a0f5f879|          1|               0|15702|320| 50|1722|  0| 35|    -1| 79|  1.0|(1675,[1,893,1672...|[120.229631038528...|[0.80153087359018...|       0.0|\n",
      "|1.621368915618469...|    0|14102100|1005|         0|85f751fd|   c4e18dd6|     50e219e0|febd1138|  82e27996|    0f2161f8| a99f214a| c21bac5a|    9b5ce758|          1|               0|21611|320| 50|2480|  3|297|100111| 61|  0.0|(1675,[2,894,1672...|[136.729767582467...|[0.91153178388312...|       0.0|\n",
      "|1.005978707662801...|    0|14102100|1005|         0|1fbe01fe|   f3845767|     28905ebd|ecad2386|  7801e8d9|    07d7df22| a99f214a| f54a3f26|    d787e91b|          1|               0|15701|320| 50|1722|  0| 35|100084| 79|  0.0|(1675,[1,893,1672...|[120.229631038528...|[0.80153087359018...|       0.0|\n",
      "|1.006726569159575...|    0|14102100|1005|         0|f282ab5a|   61eb5bc4|     f028772b|ecad2386|  7801e8d9|    07d7df22| a99f214a| 95281397|    8a4875bd|          1|               0|18993|320| 50|2161|  0| 35|100210|157|  0.0|(1675,[10,902,167...|[141.408062391787...|[0.94272041594524...|       0.0|\n",
      "|1.029512486205703...|    0|14102100|1005|         0|85f751fd|   c4e18dd6|     50e219e0|be7c618d|  2347f47a|    f95efa07| f5d67f93| b254c015|    4ea23a13|          1|               2| 1276|320| 50| 196|  3|303|    -1| 15|  0.0|(1675,[2,894,1672...|[123.823027513358...|[0.82548685008905...|       0.0|\n",
      "|1.030180711408167...|    1|14102100|1005|         0|f9c69707|   e16ceb4b|     28905ebd|ecad2386|  7801e8d9|    07d7df22| a99f214a| 3827a7e1|    1f0bc64f|          1|               0|19666|300|250|2253|  2|303|    -1| 52|  1.0|(1675,[17,908,167...|[79.1072236887879...|[0.52738149125858...|       0.0|\n",
      "|1.033630331624195...|    0|14102100|1005|         0|85f751fd|   c4e18dd6|     50e219e0|febd1138|  82e27996|    0f2161f8| a99f214a| 1cfb6873|    99e427c9|          1|               0|21611|320| 50|2480|  3|297|100111| 61|  0.0|(1675,[2,894,1672...|[136.729767582467...|[0.91153178388312...|       0.0|\n",
      "|1.048607896219575...|    1|14102100|1002|         0|aa0b6551|   c4e18dd6|     50e219e0|ecad2386|  7801e8d9|    07d7df22| e651d9de| 51b84f48|    54e3adb5|          0|               0|12008|320| 50|1248|  2| 39|100148| 13|  1.0|(1675,[614,894,16...|[120.729711414704...|[0.80486474276469...|       0.0|\n",
      "|1.050317799131910...|    0|14102100|1005|         0|1fbe01fe|   f3845767|     28905ebd|ecad2386|  7801e8d9|    07d7df22| a99f214a| fd281b60|    8a4875bd|          1|               0|15701|320| 50|1722|  0| 35|    -1| 79|  0.0|(1675,[1,893,1672...|[120.229631038528...|[0.80153087359018...|       0.0|\n",
      "|1.051898380569256...|    1|14102100|1005|         1|e151e245|   7e091613|     f028772b|ecad2386|  7801e8d9|    07d7df22| a99f214a| 6a331ab7|    99e138b7|          1|               0|20362|320| 50|2333|  0| 39|    -1|157|  1.0|(1675,[0,5,897,16...|[112.728214304433...|[0.75152142869622...|       0.0|\n",
      "|1.053180304554195...|    0|14102100|1002|         0|75f43c5a|   c4e18dd6|     50e219e0|ecad2386|  7801e8d9|    07d7df22| 05f75302| 6153415d|    c978d6f5|          0|               0|21665|320| 50|2493|  3| 35|    -1|117|  0.0|(1675,[40,894,167...|[133.668364148400...|[0.89112242765600...|       0.0|\n",
      "|1.055491391743157...|    0|14102100|1005|         0|1fbe01fe|   f3845767|     28905ebd|ecad2386|  7801e8d9|    07d7df22| a99f214a| ca645e10|    711ee120|          1|               0|15705|320| 50|1722|  0| 35|100084| 79|  0.0|(1675,[1,893,1672...|[120.188980023042...|[0.80125986682028...|       0.0|\n",
      "+--------------------+-----+--------+----+----------+--------+-----------+-------------+--------+----------+------------+---------+---------+------------+-----------+----------------+-----+---+---+----+---+---+------+---+-----+--------------------+--------------------+--------------------+----------+\n",
      "only showing top 20 rows\n",
      "\n",
      "pipeline Test AUC: 0.701306\n",
      "Cross-Validation test AUC: 0.707636\n"
     ]
    }
   ],
   "source": [
    "from pyspark.ml.tuning import *\n",
    "# The multiplies out to (2 x 3 x 3) x 10 = 180 different models being trained.\n",
    "# k = 3 and k = 10 are common\n",
    "#from pyspark.ml.tuning import *\n",
    "#paramGrid = ParamGridBuilder().addGrid(rf.impurity, ['entropy', 'gini']).addGrid(rf.numTrees, [30, 50, 100]).build() #[10, 50, 100]高 50\n",
    "paramGrid = ParamGridBuilder().addGrid(rf.maxDepth, [10,20,30]).addGrid(rf.impurity, ['entropy', 'gini']).addGrid(rf.numTrees, [30, 50, 100]).build()\n",
    "#(rf.maxDepth, [10,20,30])\n",
    "#println(paramGrid(1))\n",
    "\n",
    "#=============#以上未做cv 以下做cv\n",
    "cv = CrossValidator().setEstimator(pipeline).setEvaluator(evaluator).setEstimatorParamMaps(paramGrid).setNumFolds(3) #setNumFolds(3)\n",
    "# Run cross-validation, and choose the best set of parameters.\n",
    "cvModel = cv.fit(training)\n",
    "cvPredictions = cvModel.transform(test)\n",
    "cvAUCTest = evaluator.evaluate(cvPredictions, evaluatorParaMap)\n",
    "cvPredictions.show()\n",
    "\n",
    "#println(\"pipeline Training AUC: \" + aucTraining)\n",
    "print(\"pipeline Test AUC: %g\" % aucTest)\n",
    "print(\"Cross-Validation test AUC: %g\" % cvAUCTest)"
   ]
  },
  {
   "cell_type": "code",
   "execution_count": null,
   "metadata": {
    "collapsed": true
   },
   "outputs": [],
   "source": []
  }
 ],
 "metadata": {
  "kernelspec": {
   "display_name": "Python 2",
   "language": "python",
   "name": "python2"
  },
  "language_info": {
   "codemirror_mode": {
    "name": "ipython",
    "version": 2
   },
   "file_extension": ".py",
   "mimetype": "text/x-python",
   "name": "python",
   "nbconvert_exporter": "python",
   "pygments_lexer": "ipython2",
   "version": "2.7.11"
  }
 },
 "nbformat": 4,
 "nbformat_minor": 0
}
